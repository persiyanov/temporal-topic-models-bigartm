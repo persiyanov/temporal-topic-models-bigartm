{
 "cells": [
  {
   "cell_type": "code",
   "execution_count": 7,
   "metadata": {},
   "outputs": [],
   "source": [
    "%matplotlib inline\n",
    "\n",
    "import pandas as pd\n",
    "import numpy as np\n",
    "import matplotlib.pyplot as plt"
   ]
  },
  {
   "cell_type": "code",
   "execution_count": 3,
   "metadata": {},
   "outputs": [],
   "source": [
    "df_usa = pd.read_csv('preprocessed/usa.csv', parse_dates=['date'])"
   ]
  },
  {
   "cell_type": "code",
   "execution_count": 4,
   "metadata": {},
   "outputs": [
    {
     "data": {
      "text/plain": [
       "(16708, 6)"
      ]
     },
     "execution_count": 4,
     "output_type": "execute_result",
     "metadata": {}
    }
   ],
   "source": [
    "df_usa.shape"
   ]
  },
  {
   "cell_type": "code",
   "execution_count": 5,
   "metadata": {},
   "outputs": [
    {
     "data": {
      "text/html": [
       "<div>\n",
       "<table border=\"1\" class=\"dataframe\">\n",
       "  <thead>\n",
       "    <tr style=\"text-align: right;\">\n",
       "      <th></th>\n",
       "      <th>index</th>\n",
       "      <th>id</th>\n",
       "      <th>date</th>\n",
       "      <th>url</th>\n",
       "      <th>title</th>\n",
       "      <th>contents</th>\n",
       "    </tr>\n",
       "  </thead>\n",
       "  <tbody>\n",
       "    <tr>\n",
       "      <th>0</th>\n",
       "      <td>1</td>\n",
       "      <td>8811</td>\n",
       "      <td>2001-01-21</td>\n",
       "      <td>http://2001-2009.state.gov/r/pa/prs/ps/2001/8.htm</td>\n",
       "      <td>ship coordinate committee</td>\n",
       "      <td>meet the ship coordinate committee internation...</td>\n",
       "    </tr>\n",
       "    <tr>\n",
       "      <th>1</th>\n",
       "      <td>2</td>\n",
       "      <td>8809</td>\n",
       "      <td>2001-01-22</td>\n",
       "      <td>http://2001-2009.state.gov/r/pa/prs/ps/2001/46...</td>\n",
       "      <td>duty the secretary state</td>\n",
       "      <td>office the press secretary washington january ...</td>\n",
       "    </tr>\n",
       "    <tr>\n",
       "      <th>2</th>\n",
       "      <td>3</td>\n",
       "      <td>8810</td>\n",
       "      <td>2001-01-22</td>\n",
       "      <td>http://2001-2009.state.gov/r/pa/prs/ps/2001/9.htm</td>\n",
       "      <td>inauguration president arroyo</td>\n",
       "      <td>inauguration president arroyo revise january g...</td>\n",
       "    </tr>\n",
       "    <tr>\n",
       "      <th>3</th>\n",
       "      <td>4</td>\n",
       "      <td>8807</td>\n",
       "      <td>2001-01-24</td>\n",
       "      <td>http://2001-2009.state.gov/r/pa/prs/ps/2001/18...</td>\n",
       "      <td>conviction feliks kulov</td>\n",
       "      <td>january conviction kyrgyz opposition figure fe...</td>\n",
       "    </tr>\n",
       "    <tr>\n",
       "      <th>4</th>\n",
       "      <td>5</td>\n",
       "      <td>8808</td>\n",
       "      <td>2001-01-24</td>\n",
       "      <td>http://2001-2009.state.gov/r/pa/prs/ps/2001/16...</td>\n",
       "      <td>japanese foreign minister kono</td>\n",
       "      <td>january visit japanese foreign minister kono j...</td>\n",
       "    </tr>\n",
       "  </tbody>\n",
       "</table>\n",
       "</div>"
      ]
     },
     "output_type": "execute_result",
     "metadata": {}
    }
   ],
   "source": [
    "df_usa.head()"
   ]
  },
  {
   "cell_type": "code",
   "execution_count": 14,
   "metadata": {},
   "outputs": [],
   "source": [
    "df_usa.month = 12*(df_usa.date.dt.year-2001)+df_usa.date.dt.month"
   ]
  },
  {
   "cell_type": "code",
   "execution_count": 17,
   "metadata": {},
   "outputs": [
    {
     "data": {
      "text/plain": [
       "(array([  64.,   55.,  130.,   63.,   71.,   36.,  130.,   46.,  118.,\n",
       "          52.,  110.,   69.,  124.,   58.,  144.,   61.,   71.,  151.,\n",
       "          61.,  143.,   62.,  115.,   68.,  126.,   61.,  153.,   67.,\n",
       "         149.,   71.,  122.,   73.,  141.,   71.,  143.,  273.,  123.,\n",
       "         233.,   79.,  252.,  128.,  248.,  117.,  256.,  152.,  196.,\n",
       "          74.,  236.,  113.,  157.,   95.,  115.,  216.,  121.,  215.,\n",
       "         111.,  290.,  113.,  187.,  118.,  239.,  128.,  185.,  156.,\n",
       "         195.,  126.,  202.,  140.,  143.,  250.,  154.,  252.,  144.,\n",
       "         250.,    0.,  251.,  144.,  309.,  177.,  313.,  178.,  325.,\n",
       "         159.,  374.,  152.,  201.,  449.,  133.,  479.,  204.,  351.,\n",
       "         182.,  368.,  218.,  457.,  162.,  400.,  187.,  244.,  134.,  196.]),\n",
       " array([   1.  ,    2.47,    3.94,    5.41,    6.88,    8.35,    9.82,\n",
       "          11.29,   12.76,   14.23,   15.7 ,   17.17,   18.64,   20.11,\n",
       "          21.58,   23.05,   24.52,   25.99,   27.46,   28.93,   30.4 ,\n",
       "          31.87,   33.34,   34.81,   36.28,   37.75,   39.22,   40.69,\n",
       "          42.16,   43.63,   45.1 ,   46.57,   48.04,   49.51,   50.98,\n",
       "          52.45,   53.92,   55.39,   56.86,   58.33,   59.8 ,   61.27,\n",
       "          62.74,   64.21,   65.68,   67.15,   68.62,   70.09,   71.56,\n",
       "          73.03,   74.5 ,   75.97,   77.44,   78.91,   80.38,   81.85,\n",
       "          83.32,   84.79,   86.26,   87.73,   89.2 ,   90.67,   92.14,\n",
       "          93.61,   95.08,   96.55,   98.02,   99.49,  100.96,  102.43,\n",
       "         103.9 ,  105.37,  106.84,  108.31,  109.78,  111.25,  112.72,\n",
       "         114.19,  115.66,  117.13,  118.6 ,  120.07,  121.54,  123.01,\n",
       "         124.48,  125.95,  127.42,  128.89,  130.36,  131.83,  133.3 ,\n",
       "         134.77,  136.24,  137.71,  139.18,  140.65,  142.12,  143.59,\n",
       "         145.06,  146.53,  148.  ]),\n",
       " <a list of 100 Patch objects>)"
      ]
     },
     "execution_count": 17,
     "output_type": "execute_result",
     "metadata": {}
    },
    {
     "data": {
      "image/png": "[encoded data removed]"
     },
     "output_type": "display_data",
     "metadata": {}
    }
   ],
   "source": [
    "plt.figure(figsize=(10,10))\n",
    "plt.hist(df_usa.month.values, bins=100)"
   ]
  },
  {
   "cell_type": "code",
   "execution_count": 117,
   "metadata": {},
   "outputs": [],
   "source": [
    "docword = pd.read_csv('usa/docword.usa.txt', sep=' ', header=None, skiprows=3)"
   ]
  },
  {
   "cell_type": "code",
   "execution_count": 118,
   "metadata": {},
   "outputs": [
    {
     "data": {
      "text/html": [
       "<div>\n",
       "<table border=\"1\" class=\"dataframe\">\n",
       "  <thead>\n",
       "    <tr style=\"text-align: right;\">\n",
       "      <th></th>\n",
       "      <th>0</th>\n",
       "      <th>1</th>\n",
       "      <th>2</th>\n",
       "    </tr>\n",
       "  </thead>\n",
       "  <tbody>\n",
       "    <tr>\n",
       "      <th>0</th>\n",
       "      <td>1</td>\n",
       "      <td>945</td>\n",
       "      <td>4</td>\n",
       "    </tr>\n",
       "    <tr>\n",
       "      <th>1</th>\n",
       "      <td>1</td>\n",
       "      <td>970</td>\n",
       "      <td>1</td>\n",
       "    </tr>\n",
       "    <tr>\n",
       "      <th>2</th>\n",
       "      <td>1</td>\n",
       "      <td>779</td>\n",
       "      <td>1</td>\n",
       "    </tr>\n",
       "    <tr>\n",
       "      <th>3</th>\n",
       "      <td>1</td>\n",
       "      <td>10969</td>\n",
       "      <td>1</td>\n",
       "    </tr>\n",
       "    <tr>\n",
       "      <th>4</th>\n",
       "      <td>1</td>\n",
       "      <td>13275</td>\n",
       "      <td>2</td>\n",
       "    </tr>\n",
       "  </tbody>\n",
       "</table>\n",
       "</div>"
      ]
     },
     "output_type": "execute_result",
     "metadata": {}
    }
   ],
   "source": [
    "docword.head()"
   ]
  },
  {
   "cell_type": "markdown",
   "metadata": {},
   "source": [
    "### Appending to vocab"
   ]
  },
  {
   "cell_type": "code",
   "execution_count": 119,
   "metadata": {},
   "outputs": [],
   "source": [
    "vocab = pd.read_csv('usa/vocab.usa.txt', header=None)"
   ]
  },
  {
   "cell_type": "code",
   "execution_count": 171,
   "metadata": {},
   "outputs": [],
   "source": [
    "timestamps = pd.read_csv('usa/timestamps.months.usa.txt', header=None)"
   ]
  },
  {
   "cell_type": "code",
   "execution_count": 121,
   "metadata": {},
   "outputs": [],
   "source": [
    "ts_unique = timestamps.drop_duplicates()\n",
    "ts_unique.reset_index(inplace=True, drop=True)"
   ]
  },
  {
   "cell_type": "code",
   "execution_count": 122,
   "metadata": {},
   "outputs": [],
   "source": [
    "ts_unique_str = pd.DataFrame(ts_unique[0].apply(lambda x: str(x)+' @timestamps_class'))"
   ]
  },
  {
   "cell_type": "code",
   "execution_count": 124,
   "metadata": {},
   "outputs": [],
   "source": [
    "vocab_new = vocab.append(ts_unique_str, ignore_index=True)"
   ]
  },
  {
   "cell_type": "code",
   "execution_count": 125,
   "metadata": {},
   "outputs": [
    {
     "name": "stdout",
     "output_type": "stream",
     "text": [
      "(13652, 1)\n",
      "(147, 1)\n",
      "(13799, 1)\n"
     ]
    }
   ],
   "source": [
    "print vocab.shape\n",
    "print ts_unique.shape\n",
    "print vocab_new.shape"
   ]
  },
  {
   "cell_type": "code",
   "execution_count": 160,
   "metadata": {},
   "outputs": [],
   "source": [
    "month_to_termid = {i: 13652+i for i in xrange(ts_unique.shape[0])}"
   ]
  },
  {
   "cell_type": "code",
   "execution_count": 127,
   "metadata": {},
   "outputs": [],
   "source": [
    "vocab_new.to_csv('usa_ts/vocab.usa_ts.txt', index=False, header=False)"
   ]
  },
  {
   "cell_type": "markdown",
   "metadata": {},
   "source": [
    "### Appending to docword"
   ]
  },
  {
   "cell_type": "code",
   "execution_count": 147,
   "metadata": {},
   "outputs": [
    {
     "data": {
      "text/html": [
       "<div>\n",
       "<table border=\"1\" class=\"dataframe\">\n",
       "  <thead>\n",
       "    <tr style=\"text-align: right;\">\n",
       "      <th></th>\n",
       "      <th>0</th>\n",
       "      <th>1</th>\n",
       "      <th>2</th>\n",
       "    </tr>\n",
       "  </thead>\n",
       "  <tbody>\n",
       "    <tr>\n",
       "      <th>0</th>\n",
       "      <td>1</td>\n",
       "      <td>945</td>\n",
       "      <td>4</td>\n",
       "    </tr>\n",
       "    <tr>\n",
       "      <th>1</th>\n",
       "      <td>1</td>\n",
       "      <td>970</td>\n",
       "      <td>1</td>\n",
       "    </tr>\n",
       "    <tr>\n",
       "      <th>2</th>\n",
       "      <td>1</td>\n",
       "      <td>779</td>\n",
       "      <td>1</td>\n",
       "    </tr>\n",
       "    <tr>\n",
       "      <th>3</th>\n",
       "      <td>1</td>\n",
       "      <td>10969</td>\n",
       "      <td>1</td>\n",
       "    </tr>\n",
       "    <tr>\n",
       "      <th>4</th>\n",
       "      <td>1</td>\n",
       "      <td>13275</td>\n",
       "      <td>2</td>\n",
       "    </tr>\n",
       "  </tbody>\n",
       "</table>\n",
       "</div>"
      ]
     },
     "output_type": "execute_result",
     "metadata": {}
    }
   ],
   "source": [
    "docword.head()"
   ]
  },
  {
   "cell_type": "code",
   "execution_count": 168,
   "metadata": {},
   "outputs": [
    {
     "data": {
      "text/html": [
       "<div>\n",
       "<table border=\"1\" class=\"dataframe\">\n",
       "  <thead>\n",
       "    <tr style=\"text-align: right;\">\n",
       "      <th></th>\n",
       "      <th>0</th>\n",
       "    </tr>\n",
       "  </thead>\n",
       "  <tbody>\n",
       "    <tr>\n",
       "      <th>0</th>\n",
       "      <td>0</td>\n",
       "    </tr>\n",
       "    <tr>\n",
       "      <th>1</th>\n",
       "      <td>0</td>\n",
       "    </tr>\n",
       "    <tr>\n",
       "      <th>2</th>\n",
       "      <td>0</td>\n",
       "    </tr>\n",
       "    <tr>\n",
       "      <th>3</th>\n",
       "      <td>0</td>\n",
       "    </tr>\n",
       "    <tr>\n",
       "      <th>4</th>\n",
       "      <td>0</td>\n",
       "    </tr>\n",
       "  </tbody>\n",
       "</table>\n",
       "</div>"
      ]
     },
     "output_type": "execute_result",
     "metadata": {}
    }
   ],
   "source": [
    "timestamps.head()"
   ]
  },
  {
   "cell_type": "code",
   "execution_count": 172,
   "metadata": {},
   "outputs": [],
   "source": [
    "timestamps[1] = timestamps[0] # generating term\n",
    "timestamps[0] = timestamps.index + 1 # generating doc_id\n",
    "timestamps[1] = timestamps[1].apply(lambda x: month_to_termid[x]+1) # generating term_id\n",
    "timestamps[2] = 1 # generating count"
   ]
  },
  {
   "cell_type": "code",
   "execution_count": 173,
   "metadata": {},
   "outputs": [
    {
     "data": {
      "text/html": [
       "<div>\n",
       "<table border=\"1\" class=\"dataframe\">\n",
       "  <thead>\n",
       "    <tr style=\"text-align: right;\">\n",
       "      <th></th>\n",
       "      <th>0</th>\n",
       "      <th>1</th>\n",
       "      <th>2</th>\n",
       "    </tr>\n",
       "  </thead>\n",
       "  <tbody>\n",
       "    <tr>\n",
       "      <th>0</th>\n",
       "      <td>1</td>\n",
       "      <td>13653</td>\n",
       "      <td>1</td>\n",
       "    </tr>\n",
       "    <tr>\n",
       "      <th>1</th>\n",
       "      <td>2</td>\n",
       "      <td>13653</td>\n",
       "      <td>1</td>\n",
       "    </tr>\n",
       "    <tr>\n",
       "      <th>2</th>\n",
       "      <td>3</td>\n",
       "      <td>13653</td>\n",
       "      <td>1</td>\n",
       "    </tr>\n",
       "    <tr>\n",
       "      <th>3</th>\n",
       "      <td>4</td>\n",
       "      <td>13653</td>\n",
       "      <td>1</td>\n",
       "    </tr>\n",
       "    <tr>\n",
       "      <th>4</th>\n",
       "      <td>5</td>\n",
       "      <td>13653</td>\n",
       "      <td>1</td>\n",
       "    </tr>\n",
       "  </tbody>\n",
       "</table>\n",
       "</div>"
      ]
     },
     "output_type": "execute_result",
     "metadata": {}
    }
   ],
   "source": [
    "timestamps.head()"
   ]
  },
  {
   "cell_type": "code",
   "execution_count": 176,
   "metadata": {},
   "outputs": [
    {
     "data": {
      "text/plain": [
       "(16708, 3)"
      ]
     },
     "execution_count": 176,
     "output_type": "execute_result",
     "metadata": {}
    }
   ],
   "source": [
    "timestamps.shape"
   ]
  },
  {
   "cell_type": "code",
   "execution_count": 177,
   "metadata": {},
   "outputs": [
    {
     "data": {
      "text/plain": [
       "(3253513, 3)"
      ]
     },
     "execution_count": 177,
     "output_type": "execute_result",
     "metadata": {}
    }
   ],
   "source": [
    "docword.shape"
   ]
  },
  {
   "cell_type": "code",
   "execution_count": 174,
   "metadata": {},
   "outputs": [],
   "source": [
    "new_docword = docword.append(timestamps, ignore_index=True)"
   ]
  },
  {
   "cell_type": "code",
   "execution_count": 182,
   "metadata": {},
   "outputs": [
    {
     "data": {
      "text/html": [
       "<div>\n",
       "<table border=\"1\" class=\"dataframe\">\n",
       "  <thead>\n",
       "    <tr style=\"text-align: right;\">\n",
       "      <th></th>\n",
       "      <th>0</th>\n",
       "      <th>1</th>\n",
       "      <th>2</th>\n",
       "    </tr>\n",
       "  </thead>\n",
       "  <tbody>\n",
       "    <tr>\n",
       "      <th>3270216</th>\n",
       "      <td>16704</td>\n",
       "      <td>13799</td>\n",
       "      <td>1</td>\n",
       "    </tr>\n",
       "    <tr>\n",
       "      <th>3270217</th>\n",
       "      <td>16705</td>\n",
       "      <td>13799</td>\n",
       "      <td>1</td>\n",
       "    </tr>\n",
       "    <tr>\n",
       "      <th>3270218</th>\n",
       "      <td>16706</td>\n",
       "      <td>13799</td>\n",
       "      <td>1</td>\n",
       "    </tr>\n",
       "    <tr>\n",
       "      <th>3270219</th>\n",
       "      <td>16707</td>\n",
       "      <td>13799</td>\n",
       "      <td>1</td>\n",
       "    </tr>\n",
       "    <tr>\n",
       "      <th>3270220</th>\n",
       "      <td>16708</td>\n",
       "      <td>13799</td>\n",
       "      <td>1</td>\n",
       "    </tr>\n",
       "  </tbody>\n",
       "</table>\n",
       "</div>"
      ]
     },
     "output_type": "execute_result",
     "metadata": {}
    }
   ],
   "source": [
    "new_docword.tail()"
   ]
  },
  {
   "cell_type": "code",
   "execution_count": 184,
   "metadata": {},
   "outputs": [],
   "source": [
    "new_docword = new_docword.sort_values(by=0)"
   ]
  },
  {
   "cell_type": "code",
   "execution_count": 185,
   "metadata": {},
   "outputs": [],
   "source": [
    "new_docword.to_csv('usa_ts/docword.usa_ts.txt', index=False, header=False, sep=' ')\n",
    "# N = 16708\n",
    "# W = 13652+147=13799\n",
    "# NNZ = 6641852+147=6641999"
   ]
  },
  {
   "cell_type": "code",
   "execution_count": 178,
   "metadata": {},
   "outputs": [
    {
     "data": {
      "text/plain": [
       "6641999"
      ]
     },
     "execution_count": 178,
     "output_type": "execute_result",
     "metadata": {}
    }
   ],
   "source": [
    "6641852+147"
   ]
  },
  {
   "cell_type": "code",
   "execution_count": null,
   "metadata": {},
   "outputs": [],
   "source": [
    ""
   ]
  }
 ],
 "metadata": {
  "kernelspec": {
   "display_name": "Python 2",
   "language": "python",
   "name": "python2"
  },
  "language_info": {
   "codemirror_mode": {
    "name": "ipython",
    "version": 2.0
   },
   "file_extension": ".py",
   "mimetype": "text/x-python",
   "name": "python",
   "nbconvert_exporter": "python",
   "pygments_lexer": "ipython2",
   "version": "2.7.11"
  }
 },
 "nbformat": 4,
 "nbformat_minor": 0
}